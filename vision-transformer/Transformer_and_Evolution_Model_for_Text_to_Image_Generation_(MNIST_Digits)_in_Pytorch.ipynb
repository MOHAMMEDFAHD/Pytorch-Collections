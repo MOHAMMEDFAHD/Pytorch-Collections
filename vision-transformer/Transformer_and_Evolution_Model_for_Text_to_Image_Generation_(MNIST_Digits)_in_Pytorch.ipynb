{
  "nbformat": 4,
  "nbformat_minor": 0,
  "metadata": {
    "colab": {
      "provenance": [],
      "machine_shape": "hm"
    },
    "kernelspec": {
      "name": "python3",
      "display_name": "Python 3"
    },
    "language_info": {
      "name": "python"
    }
  },
  "cells": [
    {
      "cell_type": "markdown",
      "source": [
        "# Transformer and Evolution Model for Text-to-Image Generation (MNIST Digits)\n",
        "\n",
        "## 1. Conceptual Overview\n",
        "\n",
        "This model demonstrates how language and vision can be fused through a unified deep-learning framework.  \n",
        "The task is simple in scope but fundamental in concept:\n",
        "\n",
        "**“Given a textual description of a digit (‘zero’ to ‘nine’), generate its corresponding handwritten image.”**\n",
        "\n",
        "Even though the dataset (MNIST) is small and grayscale, the architecture mimics the text-to-image paradigm used in modern systems such as **DALL·E**, **Imagen**, and **Stable Diffusion**, but on a minimal, educational scale.\n",
        "\n",
        "The system learns a **semantic alignment** between discrete text tokens and continuous image patterns by training end-to-end on paired data:\n",
        "\n",
        "*(word label → digit image)*\n",
        "\n",
        "---\n",
        "\n",
        "## 2. Architectural Components\n",
        "\n",
        "### 2.1 Text Tokenization and Embedding\n",
        "\n",
        "Each word (“zero”, “one”, ..., “nine”) is first mapped to an integer index via a lookup dictionary (`token_map`).  \n",
        "These indices form the discrete vocabulary space (10 tokens total).  \n",
        "An embedding layer converts each token into a dense vector of dimension `embed_dim = 32`.\n",
        "\n",
        "This embedding process gives semantic “meaning” to each number word in a vector space, allowing the Transformer to process it as continuous data.\n",
        "\n",
        "Mathematically:\n",
        "\n",
        "$$\n",
        "x_i = \\text{Embedding}(token_i) \\in \\mathbb{R}^{32}\n",
        "$$\n",
        "\n",
        "---\n",
        "\n",
        "### 2.2 Transformer Encoder (Text Understanding)\n",
        "\n",
        "The Transformer Encoder captures internal relationships and dependencies between input tokens — even though here we use only one token per input, it serves as a powerful text feature extractor.\n",
        "\n",
        "It is composed of **multi-head self-attention layers** and **feedforward sub-layers**, producing a **contextual embedding** that represents the input meaning.\n",
        "\n",
        "Formula for a single layer:\n",
        "\n",
        "$$\n",
        "\\text{Attention}(Q,K,V) = \\text{softmax}\\left(\\frac{QK^T}{\\sqrt{d_k}}\\right)V\n",
        "$$\n",
        "\n",
        "where \\( Q, K, V \\) are projections of the input embedding.\n",
        "\n",
        "In this simplified case, the model learns:\n",
        "\n",
        "- “seven” → latent representation resembling the digit 7  \n",
        "- “zero” → latent representation resembling the digit 0  \n",
        "\n",
        "---\n",
        "\n",
        "### 2.3 Latent Bridge (Evolution Step)\n",
        "\n",
        "After the encoder, we use a fully connected bridge layer:\n",
        "\n",
        "```python\n",
        "self.bridge = nn.Linear(embed_dim, embed_dim)\n"
      ],
      "metadata": {
        "id": "HMgXwQX4ZNN7"
      }
    },
    {
      "cell_type": "markdown",
      "source": [
        "This acts as the evolution link — transforming the text feature vector into a suitable latent representation that can be interpreted by the visual decoder.  \n",
        "It plays the same conceptual role as the cross-modal projection in text-to-image models like CLIP or DALL·E’s prior.\n",
        "\n",
        "## 2.4 CNN Decoder (Image Generation)\n",
        "\n",
        "The decoder evolves the latent code into a 2D image.\n",
        "\n",
        "A fully connected layer expands the 32-dimensional latent vector into a 3-D tensor (128×7×7).  \n",
        "Two transposed convolution (deconvolution) layers gradually upsample this tensor to a 28×28 grayscale image.\n",
        "\n",
        "Each transposed convolution layer doubles the spatial resolution while learning spatial filters that shape the image’s fine details:\n",
        "\n",
        "ConvTranspose2d(128 → 64) → produces 14×14  \n",
        "ConvTranspose2d(64 → 1) → produces 28×28  \n",
        "\n",
        "A final **Sigmoid** activation ensures pixel values stay within [0, 1].\n",
        "\n",
        "---\n",
        "\n",
        "## 3. Training Objective\n",
        "\n",
        "The model is trained using **Mean Squared Error (MSE)** between generated and real MNIST images:\n",
        "\n",
        "$$\n",
        "\\mathcal{L} = \\frac{1}{N} \\sum_i \\| \\hat{I}_i - I_i \\|_2^2\n",
        "$$\n",
        "\n",
        "This loss encourages pixel-level similarity between the reconstructed and target images.  \n",
        "While simple, it’s sufficient for low-dimensional grayscale images.\n",
        "\n",
        "- **Optimizer:** Adam (adaptive gradient descent)  \n",
        "- **Learning rate:** 0.001  \n",
        "\n",
        "---\n",
        "\n",
        "## 4. Training Process\n",
        "\n",
        "Each batch consists of:\n",
        "\n",
        "- Text tokens → fed to the Transformer encoder  \n",
        "- Corresponding MNIST images → target outputs  \n",
        "\n",
        "For **5 epochs**:\n",
        "\n",
        "1. The Transformer learns embeddings for number words.  \n",
        "2. The CNN decoder learns to reconstruct MNIST digits that match each word’s meaning.  \n",
        "3. The latent bridge ensures gradients flow smoothly from image to text domain.\n",
        "\n",
        "Training time ≈ **5–10 minutes** on GPU.\n",
        "\n",
        "---\n",
        "\n",
        "## 5. Generation (Inference)\n",
        "\n",
        "At inference time, we can enter a word like `\"seven\"`, and the model:\n",
        "\n",
        "1. Encodes the text into a latent vector \\( z \\)  \n",
        "2. Decodes \\( z \\) into an image via the CNN decoder  \n",
        "3. Produces an output resembling the handwritten “7”\n",
        "\n",
        "This works for all 10 digits:\n",
        "\n",
        "python\n",
        "samples = [\"zero\", \"one\", ..., \"nine\"]\n",
        "\n",
        "The model can synthesize images for each class purely from textual input — no numeric labels or manual hints.\n",
        "\n",
        "---\n",
        "\n",
        "## 6. Evolutionary Path (Why “Evolution” Model?)\n",
        "\n",
        "This model demonstrates the evolution of meaning:\n",
        "\n",
        "**Text → latent space → visual form**\n",
        "\n",
        "It acts as a miniature blueprint for multimodal AI:\n",
        "\n",
        "- The Transformer evolves linguistic symbols into latent semantics.  \n",
        "- The Decoder evolves semantics into visual geometry.  \n",
        "\n",
        "Together, they simulate how models like **Stable Diffusion** operate at scale.  \n",
        "Hence, it’s called an **Evolution Model** — because it evolves a linguistic signal into an emergent visual structure.\n",
        "\n",
        "---\n",
        "\n",
        "## 7. Future Directions\n",
        "\n",
        "| Enhancement | Description | Goal |\n",
        "|:--|:--|:--|\n",
        "| Diffusion Head | Replace CNN decoder with diffusion sampling network | Realistic image synthesis |\n",
        "| Cross-Attention Bridge | Add attention between text tokens and visual latents | Learn word-level conditioning |\n",
        "| CLIP Alignment | Use pretrained text/image embeddings | Semantic consistency |\n",
        "| Variational Latent Space | Add stochastic sampling (VAE-style) | Improve diversity of outputs |\n",
        "| Higher-Res Dataset | Use EMNIST or SVHN | Extend beyond digits |\n",
        "\n",
        "---\n",
        "\n",
        "## 8. Summary\n",
        "\n",
        "| Stage | Module | Function | Output |\n",
        "|:--|:--|:--|:--|\n",
        "| Text Input | Tokenizer | Convert “seven” → [6] | Integer token |\n",
        "| Transformer Encoder | Self-Attention Layers | Extract text semantics | Embedding vector |\n",
        "| Bridge | Linear Layer | Align modalities | Latent representation |\n",
        "| CNN Decoder | Deconv layers | Generate image | 28×28 digit |\n",
        "| Loss | MSE | Compare with real MNIST | Gradient feedback |\n",
        "\n",
        "---\n",
        "\n",
        "### In Essence\n",
        "\n",
        "This project is a didactic microcosm of text-to-image AI —  \n",
        "a Transformer that learns to imagine numbers.\n"
      ],
      "metadata": {
        "id": "RXE77lXzbaz1"
      }
    },
    {
      "cell_type": "code",
      "source": [
        "# ===============================================================\n",
        "# Text-to-Image Transformer Evolution Model (PyTorch)\n",
        "# Author: Mohammed Fahd Abrah | Programming Ocean Academy\n",
        "# ===============================================================\n",
        "\n",
        "import torch\n",
        "import torch.nn as nn\n",
        "import torch.nn.functional as F\n",
        "from torch.utils.data import DataLoader, Dataset\n",
        "from torchvision import datasets, transforms\n",
        "import matplotlib.pyplot as plt"
      ],
      "metadata": {
        "id": "m-QevLtmXa-9"
      },
      "execution_count": 8,
      "outputs": []
    },
    {
      "cell_type": "code",
      "source": [
        "# --------------------------\n",
        "# 1. Text Encoding Utilities\n",
        "# --------------------------\n",
        "token_map = {\n",
        "    \"zero\": 0, \"one\": 1, \"two\": 2, \"three\": 3, \"four\": 4,\n",
        "    \"five\": 5, \"six\": 6, \"seven\": 7, \"eight\": 8, \"nine\": 9\n",
        "}\n",
        "vocab = list(token_map.keys())\n",
        "vocab_size = len(vocab)\n",
        "embed_dim = 32\n",
        "\n",
        "def text_to_tensor(word):\n",
        "    idx = vocab.index(word)\n",
        "    return torch.tensor([idx])"
      ],
      "metadata": {
        "id": "hldSx3wEXe8j"
      },
      "execution_count": 9,
      "outputs": []
    },
    {
      "cell_type": "code",
      "source": [
        "# --------------------------\n",
        "# 2. Dataset Wrapper\n",
        "# --------------------------\n",
        "class TextToMNIST(Dataset):\n",
        "    def __init__(self, train=True):\n",
        "        self.data = datasets.MNIST(root=\"./data\", train=train, download=True,\n",
        "                                   transform=transforms.ToTensor())\n",
        "    def __len__(self):\n",
        "        return len(self.data)\n",
        "    def __getitem__(self, idx):\n",
        "        img, label = self.data[idx]\n",
        "        text = vocab[label]\n",
        "        return text_to_tensor(text), img, label"
      ],
      "metadata": {
        "id": "4qWctwhHXiwQ"
      },
      "execution_count": 10,
      "outputs": []
    },
    {
      "cell_type": "code",
      "source": [
        "# --------------------------\n",
        "# 3. Transformer Encoder\n",
        "# --------------------------\n",
        "class TransformerEncoder(nn.Module):\n",
        "    def __init__(self, vocab_size, embed_dim, nhead=2, hidden_dim=64, num_layers=2):\n",
        "        super().__init__()\n",
        "        self.embedding = nn.Embedding(vocab_size, embed_dim)\n",
        "        encoder_layer = nn.TransformerEncoderLayer(d_model=embed_dim, nhead=nhead, dim_feedforward=hidden_dim)\n",
        "        self.encoder = nn.TransformerEncoder(encoder_layer, num_layers=num_layers)\n",
        "\n",
        "    def forward(self, x):\n",
        "        x = self.embedding(x)  # (batch, seq, embed_dim)\n",
        "        x = x.transpose(0, 1)  # Transformer expects (seq, batch, embed_dim)\n",
        "        enc_out = self.encoder(x)\n",
        "        return enc_out.mean(dim=0)  # (batch, embed_dim)"
      ],
      "metadata": {
        "id": "LgI633nyXmHX"
      },
      "execution_count": 11,
      "outputs": []
    },
    {
      "cell_type": "code",
      "source": [
        "# --------------------------\n",
        "# 4. CNN Decoder\n",
        "# --------------------------\n",
        "class CNNDecoder(nn.Module):\n",
        "    def __init__(self, latent_dim=32):\n",
        "        super().__init__()\n",
        "        self.fc = nn.Linear(latent_dim, 128 * 7 * 7)\n",
        "        self.deconv = nn.Sequential(\n",
        "            nn.ConvTranspose2d(128, 64, 4, stride=2, padding=1),  # 14x14\n",
        "            nn.ReLU(True),\n",
        "            nn.ConvTranspose2d(64, 1, 4, stride=2, padding=1),    # 28x28\n",
        "            nn.Sigmoid()\n",
        "        )\n",
        "\n",
        "    def forward(self, z):\n",
        "        z = self.fc(z).view(-1, 128, 7, 7)\n",
        "        return self.deconv(z)"
      ],
      "metadata": {
        "id": "kLfO2VbRXqGP"
      },
      "execution_count": 12,
      "outputs": []
    },
    {
      "cell_type": "code",
      "source": [
        "# --------------------------\n",
        "# 5. Combined Model\n",
        "# --------------------------\n",
        "class TextToImageTransformer(nn.Module):\n",
        "    def __init__(self):\n",
        "        super().__init__()\n",
        "        self.encoder = TransformerEncoder(vocab_size, embed_dim)\n",
        "        self.bridge = nn.Linear(embed_dim, embed_dim)\n",
        "        self.decoder = CNNDecoder(embed_dim)\n",
        "\n",
        "    def forward(self, text_tokens):\n",
        "        z = self.encoder(text_tokens)\n",
        "        z = F.relu(self.bridge(z))\n",
        "        img = self.decoder(z)\n",
        "        return img"
      ],
      "metadata": {
        "id": "DC1IjMPsXtci"
      },
      "execution_count": 13,
      "outputs": []
    },
    {
      "cell_type": "code",
      "execution_count": 14,
      "metadata": {
        "colab": {
          "base_uri": "https://localhost:8080/"
        },
        "id": "O_uhpVYxWl8o",
        "outputId": "c4bb8502-e433-41ca-bf51-bf03a708a45c"
      },
      "outputs": [
        {
          "output_type": "stream",
          "name": "stdout",
          "text": [
            "Epoch 1/5, Loss: 0.0556\n",
            "Epoch 2/5, Loss: 0.0536\n",
            "Epoch 3/5, Loss: 0.0535\n",
            "Epoch 4/5, Loss: 0.0535\n",
            "Epoch 5/5, Loss: 0.0535\n"
          ]
        }
      ],
      "source": [
        "# --------------------------\n",
        "# 6. Training\n",
        "# --------------------------\n",
        "device = torch.device(\"cuda\" if torch.cuda.is_available() else \"cpu\")\n",
        "model = TextToImageTransformer().to(device)\n",
        "optimizer = torch.optim.Adam(model.parameters(), lr=1e-3)\n",
        "criterion = nn.MSELoss()\n",
        "\n",
        "train_loader = DataLoader(TextToMNIST(train=True), batch_size=64, shuffle=True)\n",
        "\n",
        "epochs = 5\n",
        "for epoch in range(epochs):\n",
        "    total_loss = 0\n",
        "    for txt, img, _ in train_loader:\n",
        "        txt, img = txt.to(device), img.to(device)\n",
        "        optimizer.zero_grad()\n",
        "        out = model(txt)\n",
        "        loss = criterion(out, img)\n",
        "        loss.backward()\n",
        "        optimizer.step()\n",
        "        total_loss += loss.item()\n",
        "    print(f\"Epoch {epoch+1}/{epochs}, Loss: {total_loss/len(train_loader):.4f}\")"
      ]
    },
    {
      "cell_type": "code",
      "source": [
        "# --------------------------\n",
        "# 7. Generate Sample Images\n",
        "# --------------------------\n",
        "model.eval()\n",
        "samples = [\"zero\", \"one\", \"two\", \"three\", \"four\", \"five\", \"six\", \"seven\", \"eight\", \"nine\"]\n",
        "plt.figure(figsize=(10, 2))\n",
        "for i, word in enumerate(samples):\n",
        "    token = text_to_tensor(word).unsqueeze(0).to(device)\n",
        "    with torch.no_grad():\n",
        "        gen_img = model(token)[0].cpu().squeeze(0).squeeze().numpy()\n",
        "    plt.subplot(1, 10, i+1)\n",
        "    plt.imshow(gen_img, cmap=\"gray\")\n",
        "    plt.axis(\"off\")\n",
        "    plt.title(word)\n",
        "plt.show()"
      ],
      "metadata": {
        "colab": {
          "base_uri": "https://localhost:8080/",
          "height": 125
        },
        "id": "JqHmvuJxXSWa",
        "outputId": "2d86484b-2302-4693-db41-e203468fe8cd"
      },
      "execution_count": 15,
      "outputs": [
        {
          "output_type": "display_data",
          "data": {
            "text/plain": [
              "<Figure size 1000x200 with 10 Axes>"
            ],
            "image/png": "[encoded data removed]"
          },
          "metadata": {}
        }
      ]
    },
    {
      "cell_type": "code",
      "source": [
        "# ===============================================================\n",
        "# 4️ Interactive Image Generator Function\n",
        "# ===============================================================\n",
        "\n",
        "def generate_digit_from_text():\n",
        "    \"\"\"\n",
        "    Ask user once for a number word ('zero'...'nine') and generate its image.\n",
        "    \"\"\"\n",
        "    model.eval()\n",
        "    word = input(\"\\nEnter a number word (zero-nine): \").strip().lower()\n",
        "    try:\n",
        "        token = text_to_tensor(word).unsqueeze(0).to(device)\n",
        "        with torch.no_grad():\n",
        "            gen_img = model(token)[0].cpu().squeeze(0).squeeze().numpy()\n",
        "        plt.imshow(gen_img, cmap=\"gray\")\n",
        "        plt.title(f\"Generated image for '{word}'\")\n",
        "        plt.axis(\"off\")\n",
        "        plt.show()\n",
        "    except ValueError as e:\n",
        "        print(e)\n",
        "# ===============================================================\n",
        "# 5️ Run Interactive Demo\n",
        "# ===============================================================\n",
        "\n",
        "if __name__ == \"__main__\":\n",
        "    generate_digit_from_text()"
      ],
      "metadata": {
        "colab": {
          "base_uri": "https://localhost:8080/",
          "height": 463
        },
        "id": "WYUOk9YHX8zw",
        "outputId": "a53a14be-ea61-44e0-f527-c6084065f678"
      },
      "execution_count": 24,
      "outputs": [
        {
          "name": "stdout",
          "output_type": "stream",
          "text": [
            "\n",
            "Enter a number word (zero-nine): seven\n"
          ]
        },
        {
          "output_type": "display_data",
          "data": {
            "text/plain": [
              "<Figure size 640x480 with 1 Axes>"
            ],
            "image/png": "[encoded data removed]"
          },
          "metadata": {}
        }
      ]
    },
    {
      "cell_type": "markdown",
      "source": [
        "The lab includes three primary models working together to perform text-to-image generation:\n",
        "\n",
        "1. **Transformer Encoder**  \n",
        "   - Processes the input text (e.g., “seven”) and converts it into a numerical embedding.  \n",
        "   - Uses multi-head self-attention to capture contextual relationships between tokens.  \n",
        "   - Outputs a semantic vector representing the meaning of the word.\n",
        "\n",
        "2. **Latent Bridge (Linear Layer)**  \n",
        "   - A fully connected transformation between the text and image domains.  \n",
        "   - Aligns the Transformer’s text embedding with the visual latent space required by the decoder.  \n",
        "   - Acts as the cross-modal connector — linking language understanding to visual synthesis.\n",
        "\n",
        "3. **CNN Decoder**  \n",
        "   - A convolutional neural network that converts the latent vector into a 2D image.  \n",
        "   - Expands the latent representation using transposed convolutions to form the 28×28 MNIST digit.  \n",
        "   - Final layer uses a Sigmoid activation to normalize pixel values between 0 and 1.\n",
        "\n",
        "Together, these models form the **Text-to-Image Evolution Architecture**,  \n",
        "which learns to translate symbolic language (words) into visual representations (digits).\n"
      ],
      "metadata": {
        "id": "sprh8_dDcOjH"
      }
    }
  ]
}