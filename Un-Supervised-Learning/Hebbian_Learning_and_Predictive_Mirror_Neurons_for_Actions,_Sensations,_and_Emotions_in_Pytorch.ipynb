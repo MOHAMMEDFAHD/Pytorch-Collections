{
  "nbformat": 4,
  "nbformat_minor": 0,
  "metadata": {
    "colab": {
      "provenance": [],
      "machine_shape": "hm",
      "gpuType": "L4"
    },
    "kernelspec": {
      "name": "python3",
      "display_name": "Python 3"
    },
    "language_info": {
      "name": "python"
    },
    "accelerator": "GPU"
  },
  "cells": [
    {
      "cell_type": "markdown",
      "source": [
        "# Hebbian Learning and Predictive Mirror Neurons for Actions, Sensations, and Emotions  \n",
        "**Keysers & Gazzola (2014)**\n",
        "\n",
        "# https://pubmed.ncbi.nlm.nih.gov/24778372/\n",
        "\n",
        "## Abstract  \n",
        "The paper argues that mirror neurons—cells that activate during both execution and observation of actions, sensations, or emotions—can be explained as the product of Hebbian learning. It proposes that predictive coding and associative plasticity together form a unifying account of mirror neuron development and function across motor, sensory, and emotional domains.\n",
        "\n",
        "---\n",
        "\n",
        "## Problems  \n",
        "\n",
        "1. **Origin of Mirror Neurons**: Unclear whether mirror neurons are innate or learned.  \n",
        "2. **Scope Limitation**: Prior models mostly focus on motor actions, neglecting sensations and emotions.  \n",
        "3. **Mechanistic Explanation**: Lack of a clear learning mechanism for how sensory and motor responses become coupled.  \n",
        "4. **Predictive Coding Gap**: The role of prediction and error correction in mirror systems had not been fully integrated.  \n",
        "\n",
        "---\n",
        "\n",
        "## Proposed Solutions  \n",
        "\n",
        "- Mirror neurons arise naturally from **Hebbian learning**: *“cells that fire together, wire together”*.  \n",
        "- Through **correlated sensorimotor experiences**, neurons become tuned to both executed and observed events.  \n",
        "- **Predictive coding models** explain how such neurons generate expectations and minimize prediction errors.  \n",
        "- This framework extends beyond action observation to **sensations (e.g., touch)** and **emotions (e.g., pain, disgust)**.  \n",
        "\n",
        "---\n",
        "\n",
        "## Purpose  \n",
        "\n",
        "To provide a **unified theoretical model** of mirror neuron development and function, rooted in **Hebbian learning** and **predictive coding**, explaining their presence in action, sensory, and emotional domains.  \n",
        "\n",
        "---\n",
        "\n",
        "## Methodology  \n",
        "\n",
        "- **Theoretical synthesis**: Integration of Hebbian learning principles, predictive coding theory, and experimental mirror neuron findings.  \n",
        "- **Cross-domain analysis**: Review of empirical studies on action, touch, and emotion mirroring.  \n",
        "- **Computational framing**: Conceptual use of prediction-error minimization to model mirror responses.  \n",
        "\n",
        "---\n",
        "\n",
        "## Results  \n",
        "\n",
        "- **Hebbian plausibility**: Empirical evidence supports correlated sensorimotor activity during development (e.g., self-touch, imitation) as a driver for mirror neurons.  \n",
        "- **Predictive role**: Mirror neurons anticipate the sensory consequences of observed actions, sensations, and emotions.  \n",
        "- **Domain generality**: Same mechanisms explain motor, somatosensory, and emotional mirroring.  \n",
        "- **Integration with predictive coding**: Mirror neurons serve as predictive units, reducing error between expected and observed experiences.  \n",
        "\n",
        "---\n",
        "\n",
        "## Conclusions  \n",
        "\n",
        "- Mirror neurons are **not innate modules** but emerge from **experience-dependent Hebbian learning**.  \n",
        "- **Predictive coding** provides a powerful explanatory framework for their anticipatory role.  \n",
        "- This model bridges motor, sensory, and emotional mirroring within a **single learning-based theory**.  \n",
        "- **Implications**: Supports embodied cognition and provides testable hypotheses for **development, plasticity, and dysfunction** in social cognition disorders.  \n"
      ],
      "metadata": {
        "id": "9jkK90qO1THi"
      }
    },
    {
      "cell_type": "markdown",
      "source": [
        "# Mathematical and Statistical Content of Keysers & Gazzola (2014)\n",
        "\n",
        "## 1. Hebbian Learning Rule  \n",
        "\n",
        "**Principle**: *“Cells that fire together, wire together.”*  \n",
        "\n",
        "**Mathematical Core**:  \n",
        "If neuron \\(A\\) and neuron \\(B\\) are active at the same time, the synaptic weight between them strengthens:  \n",
        "\n",
        "$$\n",
        "\\Delta w_{AB} \\propto x_A \\cdot x_B\n",
        "$$\n",
        "\n",
        "where \\(x_A\\) and \\(x_B\\) are the activity levels of neurons \\(A\\) and \\(B\\).  \n",
        "\n",
        "**Role in the paper**: This rule explains how correlations between motor actions and sensory inputs naturally lead to the formation of mirror neurons.  \n",
        "\n",
        "---\n",
        "\n",
        "## 2. Correlation-Based Association  \n",
        "\n",
        "When an individual executes an action and simultaneously observes or feels the outcome, **correlated activity** occurs between motor and sensory neurons.  \n",
        "\n",
        "This can be expressed statistically as a covariance mechanism:  \n",
        "\n",
        "$$\n",
        "\\text{Cov}(X, Y) > 0 \\;\\;\\; \\Rightarrow \\;\\;\\; \\text{Strengthened connection}\n",
        "$$  \n",
        "\n",
        "**Role**: Provides a statistical justification for how **experience-dependent associations** form across modalities (action, touch, emotion).  \n",
        "\n",
        "---\n",
        "\n",
        "## 3. Predictive Coding Framework  \n",
        "\n",
        "**Mathematical Principle**: The brain minimizes **prediction error**, defined as:  \n",
        "\n",
        "$$\n",
        "\\text{Prediction Error} = \\text{Observed Signal} - \\text{Predicted Signal}\n",
        "$$  \n",
        "\n",
        "**Role**: Mirror neurons are framed as **predictive units** that generate expectations for sensory outcomes of observed actions.  \n",
        "- When reality diverges, the **error signal** drives learning and weight adjustments.  \n",
        "\n",
        "---\n",
        "\n",
        "## 4. Probability and Inference  \n",
        "\n",
        "Although not explicitly written in probability notation, the predictive coding framework is conceptually equivalent to **Bayesian inference**:  \n",
        "\n",
        "- The brain computes **likelihoods** of outcomes based on prior experience.  \n",
        "- Updating occurs when **observations deviate** from expectations (posterior adjustment).  \n",
        "\n",
        "**Role**: Positions mirror neuron activity as a form of **probabilistic inference** about others’ actions, sensations, or emotions.  \n",
        "\n",
        "---\n",
        "\n",
        "## Summary in Plain Terms  \n",
        "\n",
        "- **Hebbian learning** provides the weight-update mechanism through correlated activity.  \n",
        "- **Statistics** enter via co-occurrence and covariance across sensory and motor domains.  \n",
        "- **Predictive coding** formalizes this as minimizing error between expected and observed outcomes.  \n",
        "- **Bayesian reasoning** underlies the probabilistic interpretation of mirror neuron function.  \n",
        "\n",
        "Together, these mathematical and statistical principles unify the explanation of how neurons become tuned to both action execution and observation across **motor, sensory, and emotional domains**.  \n"
      ],
      "metadata": {
        "id": "ZzzWK_uR1tpC"
      }
    },
    {
      "cell_type": "markdown",
      "source": [
        "# Structured Review Table: Keysers & Gazzola (2014)  \n",
        "**Hebbian Learning and Predictive Mirror Neurons for Actions, Sensations and Emotions**\n",
        "\n",
        "| Key Problems / Research Gaps Identified | Limitations of Prior Work | Proposed Solutions by This Paper |\n",
        "| ---------------------------------------- | ------------------------- | -------------------------------- |\n",
        "| Lack of mechanistic explanation for mirror neurons | Prior studies described mirror neurons as associative but did not clarify how such associations form biologically. | Introduce **Hebbian learning** as the mechanism: co-activation of sensory and motor neurons strengthens their connection, forming predictive mirror neurons. |\n",
        "| Unclear predictive role of mirror neurons | Traditional models treated mirror neurons as **passive responders** to observed actions, not as predictors. | Reframe mirror neurons as **predictive coding units** that anticipate sensory outcomes of motor actions. |\n",
        "| Fragmented treatment of actions, sensations, and emotions | Most models addressed only **motor–action mirroring**, ignoring parallels in touch and emotional domains. | Extend Hebbian framework to show a **unified mechanism** for actions, sensations, and emotional mirroring, grounded in predictive associations. |\n",
        "| Lack of link between neural plasticity and social cognition | Earlier accounts explained mirror neurons without integrating **learning rules from neuroscience**. | Demonstrate that **synaptic plasticity under Hebbian rules** naturally accounts for the emergence of socially relevant mirror functions (e.g., empathy). |\n",
        "| Instability and overgeneralization in simple Hebbian models | Pure Hebbian learning can lead to **unbounded weights** or non-specific associations. | Propose refinements with **prediction-based coding and inhibitory mechanisms** to stabilize learning and ensure specificity of associations. |\n",
        "\n",
        "**Summary**:  \n",
        "Keysers & Gazzola (2014) provide a unifying framework that grounds mirror neuron development in **Hebbian plasticity** and extends their role into **predictive coding** across motor, sensory, and emotional domains. This resolves earlier limitations by linking learning rules, prediction error minimization, and social cognition.  \n"
      ],
      "metadata": {
        "id": "pVYc8U2V3Ev4"
      }
    },
    {
      "cell_type": "code",
      "execution_count": 1,
      "metadata": {
        "id": "QOMVsA971AlC"
      },
      "outputs": [],
      "source": [
        "# ================================================================\n",
        "# Mirror Neuron Lab: Hebbian Learning + Predictive Coding\n",
        "# Inspired by Keysers & Gazzola (2014)\n",
        "# ================================================================\n",
        "\n",
        "import torch\n",
        "import torch.nn as nn\n",
        "import torch.optim as optim\n",
        "import matplotlib.pyplot as plt\n",
        "import numpy as np\n",
        "import random\n",
        "\n",
        "# -------------------------------\n",
        "# 1. Synthetic Dataset\n",
        "# -------------------------------\n",
        "# Let's simulate 3 actions: \"grasp\", \"touch\", \"smile\"\n",
        "# Each has a motor representation (cause) and a sensory/emotional outcome (effect)\n",
        "\n",
        "actions = [\"grasp\", \"touch\", \"smile\"]\n",
        "num_actions = len(actions)\n",
        "\n",
        "# Motor inputs (one-hot)\n",
        "motor_inputs = torch.eye(num_actions)\n",
        "\n",
        "# Sensory outcomes (also one-hot for simplicity)\n",
        "# (e.g., grasp->object moving, touch->feeling pressure, smile->feeling joy)\n",
        "sensory_outputs = torch.eye(num_actions)\n",
        "\n",
        "# -------------------------------\n",
        "# 2. Simple Hebbian Learner\n",
        "# -------------------------------\n",
        "class HebbianMirrorModel:\n",
        "    def __init__(self, input_size, output_size, lr=0.1):\n",
        "        # Weight matrix: connects motor -> sensory\n",
        "        self.W = torch.zeros((output_size, input_size))\n",
        "        self.lr = lr\n",
        "\n",
        "    def hebbian_update(self, motor, sensory):\n",
        "        # Outer product Hebbian update rule: ΔW = lr * (sensory ⊗ motor)\n",
        "        self.W += self.lr * torch.ger(sensory, motor)\n",
        "\n",
        "    def predict(self, motor):\n",
        "        # Linear prediction of sensory outcome\n",
        "        return torch.matmul(self.W, motor)\n",
        "\n",
        "    def get_weights(self):\n",
        "        return self.W.detach().numpy()\n",
        "\n",
        "# -------------------------------\n",
        "# 3. Training Loop (Hebbian Learning)\n",
        "# -------------------------------\n",
        "model = HebbianMirrorModel(num_actions, num_actions, lr=0.2)\n",
        "losses = []\n",
        "\n",
        "for epoch in range(50):\n",
        "    epoch_loss = 0\n",
        "    for i in range(num_actions):\n",
        "        motor = motor_inputs[i]\n",
        "        sensory = sensory_outputs[i]\n",
        "        pred = model.predict(motor)\n",
        "        loss = torch.mean((pred - sensory)**2)  # prediction error\n",
        "        epoch_loss += loss.item()\n",
        "        # Hebbian weight update\n",
        "        model.hebbian_update(motor, sensory)\n",
        "    losses.append(epoch_loss / num_actions)"
      ]
    },
    {
      "cell_type": "code",
      "source": [
        "# -------------------------------\n",
        "# 4. Evaluation\n",
        "# -------------------------------\n",
        "print(\"Final Weight Matrix (Motor → Sensory Associations):\")\n",
        "print(model.get_weights())"
      ],
      "metadata": {
        "colab": {
          "base_uri": "https://localhost:8080/"
        },
        "id": "8clZndFy2CRj",
        "outputId": "bb365c47-caac-4f9a-f40d-a077c79136c6"
      },
      "execution_count": 5,
      "outputs": [
        {
          "output_type": "stream",
          "name": "stdout",
          "text": [
            "Final Weight Matrix (Motor → Sensory Associations):\n",
            "[[9.999995 0.       0.      ]\n",
            " [0.       9.999995 0.      ]\n",
            " [0.       0.       9.999995]]\n"
          ]
        }
      ]
    },
    {
      "cell_type": "code",
      "source": [
        "# Predictions after training\n",
        "print(\"\\nPredictions:\")\n",
        "for i in range(num_actions):\n",
        "    motor = motor_inputs[i]\n",
        "    pred = model.predict(motor)\n",
        "    print(f\"Action: {actions[i]} | Prediction: {pred.round(decimals=2)}\")"
      ],
      "metadata": {
        "colab": {
          "base_uri": "https://localhost:8080/"
        },
        "id": "YdbkNNmh2S_7",
        "outputId": "18bd690e-91a2-4a06-c658-cab77e7b50af"
      },
      "execution_count": 6,
      "outputs": [
        {
          "output_type": "stream",
          "name": "stdout",
          "text": [
            "\n",
            "Predictions:\n",
            "Action: grasp | Prediction: tensor([10.,  0.,  0.])\n",
            "Action: touch | Prediction: tensor([ 0., 10.,  0.])\n",
            "Action: smile | Prediction: tensor([ 0.,  0., 10.])\n"
          ]
        }
      ]
    },
    {
      "cell_type": "code",
      "source": [
        "# -------------------------------\n",
        "# 5. Visualization\n",
        "# -------------------------------\n",
        "\n",
        "# Plot training loss\n",
        "plt.figure(figsize=(6,4))\n",
        "plt.plot(losses, marker='o')\n",
        "plt.title(\"Prediction Error During Hebbian Learning\")\n",
        "plt.xlabel(\"Epoch\")\n",
        "plt.ylabel(\"Mean Squared Error\")\n",
        "plt.grid(True)\n",
        "plt.show()"
      ],
      "metadata": {
        "colab": {
          "base_uri": "https://localhost:8080/",
          "height": 410
        },
        "id": "Xi-XROh_2WCI",
        "outputId": "94bd7734-ec2f-405f-876e-ba8821b9a90f"
      },
      "execution_count": 7,
      "outputs": [
        {
          "output_type": "display_data",
          "data": {
            "text/plain": [
              "<Figure size 600x400 with 1 Axes>"
            ],
            "image/png": "[encoded data removed]"
          },
          "metadata": {}
        }
      ]
    },
    {
      "cell_type": "code",
      "source": [
        "# Visualize learned associations (weights heatmap)\n",
        "plt.figure(figsize=(5,4))\n",
        "plt.imshow(model.get_weights(), cmap=\"viridis\", aspect=\"auto\")\n",
        "plt.xticks(range(num_actions), actions)\n",
        "plt.yticks(range(num_actions), [f\"Sensory-{a}\" for a in actions])\n",
        "plt.colorbar(label=\"Weight Strength\")\n",
        "plt.title(\"Hebbian Learned Motor→Sensory Associations\")\n",
        "plt.show()"
      ],
      "metadata": {
        "colab": {
          "base_uri": "https://localhost:8080/",
          "height": 391
        },
        "id": "7vzfh8z_2H2s",
        "outputId": "086d02bb-faad-4abf-80e5-df84d1759d3f"
      },
      "execution_count": 3,
      "outputs": [
        {
          "output_type": "display_data",
          "data": {
            "text/plain": [
              "<Figure size 500x400 with 2 Axes>"
            ],
            "image/png": "[encoded data removed]"
          },
          "metadata": {}
        }
      ]
    },
    {
      "cell_type": "code",
      "source": [
        "# -------------------------------\n",
        "# 6. Prediction Demo (Test)\n",
        "# -------------------------------\n",
        "test_action = random.choice(actions)\n",
        "idx = actions.index(test_action)\n",
        "motor = motor_inputs[idx]\n",
        "pred = model.predict(motor)\n",
        "print(f\"\\nDemo Prediction:\")\n",
        "print(f\"Observed action: {test_action}\")\n",
        "print(f\"Predicted sensory outcome: {pred.argmax().item()} ({actions[pred.argmax().item()]})\")\n"
      ],
      "metadata": {
        "colab": {
          "base_uri": "https://localhost:8080/"
        },
        "id": "rEq_UD902EKD",
        "outputId": "d1d773d4-22e2-4d2a-9009-8cb679c14b52"
      },
      "execution_count": 4,
      "outputs": [
        {
          "output_type": "stream",
          "name": "stdout",
          "text": [
            "\n",
            "Demo Prediction:\n",
            "Observed action: smile\n",
            "Predicted sensory outcome: 2 (smile)\n"
          ]
        }
      ]
    },
    {
      "cell_type": "markdown",
      "source": [
        "# Discussing the Results\n",
        "\n",
        "## Final Weight Matrix (Motor → Sensory Associations)\n",
        "\n",
        "Learned weights:\n",
        "\n",
        "$$\n",
        "W \\approx\n",
        "\\begin{bmatrix}\n",
        "10 & 0 & 0 \\\\\n",
        "0 & 10 & 0 \\\\\n",
        "0 & 0 & 10\n",
        "\\end{bmatrix}\n",
        "$$\n",
        "\n",
        "**Interpretation**:  \n",
        "Each motor command (e.g., *grasp*, *touch*, *smile*) strongly associates with its corresponding sensory outcome, forming nearly perfect **one-to-one mappings**.\n",
        "\n",
        "---\n",
        "\n",
        "## Predictions After Training\n",
        "\n",
        "- Action: *grasp* → Predicted sensory outcome: *grasp*.  \n",
        "- Action: *touch* → Predicted sensory outcome: *touch*.  \n",
        "- Action: *smile* → Predicted sensory outcome: *smile*.  \n",
        "\n",
        "**Result**: Predictions align with expected outputs, demonstrating **correct associative learning**.\n",
        "\n",
        "---\n",
        "\n",
        "## Loss Curve (Prediction Error During Hebbian Learning)\n",
        "\n",
        "- Mean squared error (MSE) initially small, then increases **quadratically**.  \n",
        "- This contrasts with gradient descent training, where loss typically decreases.  \n",
        "- Under pure Hebbian learning, weight growth can cause **error divergence** if unregularized.\n",
        "\n",
        "---\n",
        "\n",
        "## Heatmap of Associations (Motor → Sensory)\n",
        "\n",
        "- Strong diagonal dominance (bright values along diagonal).  \n",
        "- Confirms that the network learned **specific pairings** rather than diffuse associations.  \n",
        "\n",
        "---\n",
        "\n",
        "## Demo Prediction\n",
        "\n",
        "- Random input action: *smile*.  \n",
        "- Predicted outcome: *smile* (correct).  \n",
        "\n",
        "**Validation**: Confirms the **functional correctness** of the learned mapping.\n",
        "\n",
        "---\n",
        "\n",
        "# Academic Explanation\n",
        "\n",
        "### Role of Hebbian Rule  \n",
        "The principle *“cells that fire together wire together”* drives weight strengthening for **co-activated motor–sensory pairs**.  \n",
        "\n",
        "### Resulting Dynamics  \n",
        "- The system develops **specific associative links**.  \n",
        "- Enables prediction of sensory outcomes from motor actions.  \n",
        "\n",
        "### Error Dynamics  \n",
        "- Increasing error arises from **unbounded weight growth**.  \n",
        "- Pure Hebbian learning lacks **normalization** or **inhibition**, leading to instability.  \n",
        "\n",
        "### Functional Implication  \n",
        "The replication captures a **neurocomputational principle**: mirror-like predictive coding can emerge naturally from Hebbian plasticity.  \n",
        "However, stability requires additional biological mechanisms such as:  \n",
        "- **Synaptic normalization**  \n",
        "- **Homeostatic scaling**  \n",
        "- **Inhibitory competition**\n",
        "\n",
        "---\n",
        "\n",
        "# Conclusion\n",
        "\n",
        "This replication demonstrates that Hebbian learning can:  \n",
        "- Encode **motor–sensory associations**.  \n",
        "- Produce **mirror-like predictive functionality**.  \n",
        "\n",
        "But it also reveals a limitation:  \n",
        "- **Runaway weight growth** leads to increasing error, showing that pure Hebbian learning is insufficient for stable predictive modeling.  \n",
        "\n",
        "Biological systems likely solve this through **regulatory mechanisms** that balance excitation and inhibition, ensuring robust and stable predictive coding.  \n"
      ],
      "metadata": {
        "id": "Cy7ScMJn2zKJ"
      }
    },
    {
      "cell_type": "markdown",
      "source": [
        "# Related Work References: Keysers & Gazzola (2014)  \n",
        "**Hebbian Learning and Predictive Mirror Neurons for Actions, Sensations and Emotions**\n",
        "\n",
        "| Author(s) | Year | Title | Venue | Connection to This Paper |\n",
        "|-----------|------|-------|-------|--------------------------|\n",
        "| Rizzolatti et al. | 1996–2004 | Foundational studies on mirror neurons in macaques | J. Neurosci., Exp. Brain Res. | Provided the **initial discovery of mirror neurons**, showing vicarious activations when observing or hearing actions. This foundational evidence motivates the Hebbian learning interpretation. |\n",
        "| Keysers & Perrett | 2002 | *Visual and auditory mirror neurons* | Brain Res. Cogn. Brain Res. | Introduced the concept of **multimodal mirror neurons** (sight, sound), central to the Hebbian emergence model. |\n",
        "| Heyes | 2001–2010 | Work on Associative Sequence Learning (ASL) | Trends Cogn. Sci. | Proposed a **cognitive-level associative model** of mirror neuron development. Compared against the neural Hebbian model. |\n",
        "| Del Giudice et al. | 2009 | Modeling mirror neuron emergence | Psychol. Rev. | Developed **computational accounts** of mirror neurons that align with Hebbian plasticity principles. |\n",
        "| Cook et al. | 2010–2012 | Experiments on imitation and associative learning | Philos. Trans. R. Soc. B | Provided **behavioral evidence** for experience-driven learning of mirror neurons. |\n",
        "| Bauer et al. | 2001 | STDP experiments (timing-dependent potentiation/depression) | J. Neurosci. | Showed that **spike-timing and contingency** matter in synaptic plasticity, offering biological grounding for Hebbian emergence of mirror neurons. |\n",
        "| Casile et al. | 2011 | Developmental models of mirror neurons | Dev. Sci. | Suggested that some mirror neurons (e.g., for **facial expressions**) may emerge through mechanisms distinct from those for hand-action neurons. |\n",
        "| Ferrari et al. | 2012 | Epigenetic model of mirror neurons | Behav. Brain Res. | Proposed that **epigenetic factors** guide Hebbian learning of mirror neurons, broadening the developmental framework. |\n",
        "| Kilner et al. | 2007 | Bayesian model of mirror neurons | Trends Cogn. Sci. | Positioned mirror neurons as part of a **predictive coding framework**, complementary to Hebbian accounts. |\n",
        "| Computational modeling studies (various) | 2000s | Error backpropagation and system-level MNS models | Neural Computation / CogSci venues | Explored system-level **architectures for the mirror neuron system**, though often abstract and less biologically grounded than Hebbian STDP models. |\n",
        "\n",
        "**Summary**:  \n",
        "The related work cited by Keysers & Gazzola (2014) spans foundational neuroscience (Rizzolatti), multimodal evidence (Keysers & Perrett), associative and computational theories (Heyes, Del Giudice, Cook), synaptic plasticity experiments (Bauer), developmental and epigenetic perspectives (Casile, Ferrari), and predictive coding frameworks (Kilner). Together, these strands provide the empirical and theoretical grounding for the authors’ unifying account of mirror neurons via **Hebbian learning and predictive coding**.  \n"
      ],
      "metadata": {
        "id": "r1vJiAXe3heq"
      }
    }
  ]
}