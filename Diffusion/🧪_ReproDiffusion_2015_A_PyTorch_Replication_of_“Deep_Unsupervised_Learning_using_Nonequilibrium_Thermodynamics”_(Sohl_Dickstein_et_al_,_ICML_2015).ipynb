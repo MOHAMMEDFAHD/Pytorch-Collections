{
  "nbformat": 4,
  "nbformat_minor": 0,
  "metadata": {
    "colab": {
      "provenance": [],
      "machine_shape": "hm",
      "gpuType": "L4"
    },
    "kernelspec": {
      "name": "python3",
      "display_name": "Python 3"
    },
    "language_info": {
      "name": "python"
    },
    "accelerator": "GPU"
  },
  "cells": [
    {
      "cell_type": "markdown",
      "source": [
        "# 📖 Deep Unsupervised Learning using Nonequilibrium Thermodynamics – Summary\n",
        "\n",
        "# https://arxiv.org/pdf/1503.03585\n",
        "\n",
        "---\n",
        "\n",
        "## 🔎 Abstract\n",
        "- Proposes a **diffusion probabilistic model** inspired by **non-equilibrium statistical physics**.  \n",
        "- Core idea:  \n",
        "  - **Forward diffusion process:** gradually destroys structure in data → noise.  \n",
        "  - **Reverse diffusion process:** learned generative model reconstructs data from noise.  \n",
        "- Provides **tractable likelihood, sampling, and inference** with highly flexible distributions.  \n",
        "\n",
        "---\n",
        "\n",
        "## 🎯 Purpose\n",
        "- Overcome the trade-off between **tractability vs. flexibility** in probabilistic modeling.  \n",
        "- Enable:  \n",
        "  - **Exact sampling**.  \n",
        "  - **Efficient log-likelihood evaluation**.  \n",
        "  - **Posterior inference and conditioning**.  \n",
        "- Serve as a **general generative framework** for toy datasets, binary data, and natural images.  \n",
        "\n",
        "---\n",
        "\n",
        "## 🧮 Methodology\n",
        "\n",
        "### 1. Forward Diffusion\n",
        "- Define a Markov chain \\( q(x_{0:T}) \\) that maps the data distribution \\( q(x_0) \\) into a tractable prior (e.g., Gaussian).  \n",
        "- Each step applies a small perturbation (Gaussian or binomial):  \n",
        "\n",
        "$$\n",
        "q(x_t \\mid x_{t-1}) = T_\\pi(x_t \\mid x_{t-1}; \\beta_t)\n",
        "$$\n",
        "\n",
        "---\n",
        "\n",
        "### 2. Reverse Diffusion (Generative Model)\n",
        "- Learn a reverse Markov chain \\( p(x_{0:T}) \\):  \n",
        "\n",
        "$$\n",
        "p(x_{0:T}) = p(x_T) \\prod_{t=1}^T p(x_{t-1} \\mid x_t)\n",
        "$$\n",
        "\n",
        "- Parameterized by neural networks (MLPs or CNNs):  \n",
        "  - Estimate mean & covariance (Gaussian case).  \n",
        "  - Estimate flip probabilities (binomial case).  \n",
        "\n",
        "---\n",
        "\n",
        "### 3. Log-Likelihood\n",
        "- Likelihood of data evaluated by forward vs. reverse ratio:  \n",
        "\n",
        "$$\n",
        "\\log p(x_0) = \\mathbb{E}_{q(x_{1:T} \\mid x_0)}\n",
        "\\left[\n",
        "  \\log \\frac{p(x_{0:T})}{q(x_{1:T} \\mid x_0)}\n",
        "\\right]\n",
        "$$\n",
        "\n",
        "- Training objective: maximize a **variational lower bound** involving KL divergences and entropies.  \n",
        "\n",
        "---\n",
        "\n",
        "### 4. Extensions\n",
        "- Derived **entropy bounds** per step for theoretical guarantees.  \n",
        "- Enabled **posterior inference** by conditioning model distribution on external constraints (denoising, inpainting).  \n",
        "\n",
        "---\n",
        "\n",
        "## 📊 Results\n",
        "- **Toy Data:** Swiss roll, binary heartbeat sequence → captured distributions well.  \n",
        "- **MNIST:** Comparable log-likelihood to DBNs, GSNs, and adversarial nets.  \n",
        "- **CIFAR-10 & natural images:** Learned meaningful distributions; enabled **denoising** and **inpainting**.  \n",
        "- **Dead Leaves dataset:** Achieved **state-of-the-art log-likelihood** at the time.  \n",
        "\n",
        "---\n",
        "\n",
        "## 📌 Contributions\n",
        "- Introduced **diffusion probabilistic models**:  \n",
        "  - Forward destruction + learned reverse reconstruction.  \n",
        "- Showed deep generative models with thousands of steps remain tractable.  \n",
        "- Provided **entropy production bounds** per step.  \n",
        "- Demonstrated **posterior inference applications** (denoising, inpainting).  \n",
        "\n",
        "---\n",
        "\n",
        "## 🏆 Impact\n",
        "- Established the foundation for **modern diffusion models**.  \n",
        "- Bridged **statistical physics** with **deep generative modeling**.  \n",
        "- Inspired later breakthroughs:  \n",
        "  - **DDPM (Ho et al., 2020)**.  \n",
        "  - **Score-based generative modeling (Song & Ermon, 2020)**.  \n",
        "\n",
        "---\n",
        "\n",
        "## 📚 Reference\n",
        "Sohl-Dickstein, J., Weiss, E., Maheswaranathan, N., & Ganguli, S. (2015).  \n",
        "*Deep Unsupervised Learning using Nonequilibrium Thermodynamics.* ICML 2015.  \n"
      ],
      "metadata": {
        "id": "1Zdpxjah6O2E"
      }
    },
    {
      "cell_type": "code",
      "execution_count": 1,
      "metadata": {
        "colab": {
          "base_uri": "https://localhost:8080/"
        },
        "id": "7ouF3vB73-NF",
        "outputId": "23dc37df-2eb7-493e-9fb6-95efc69af839"
      },
      "outputs": [
        {
          "output_type": "execute_result",
          "data": {
            "text/plain": [
              "<torch._C.Generator at 0x7eef94491150>"
            ]
          },
          "metadata": {},
          "execution_count": 1
        }
      ],
      "source": [
        "# 📦 1) Setup\n",
        "import math, torch, torch.nn as nn, torch.nn.functional as F\n",
        "import torch.optim as optim\n",
        "from torch.utils.data import DataLoader\n",
        "from torchvision import datasets, transforms, utils\n",
        "import matplotlib.pyplot as plt\n",
        "from tqdm import tqdm\n",
        "\n",
        "device = torch.device(\"cuda\" if torch.cuda.is_available() else \"cpu\")\n",
        "torch.manual_seed(42)\n"
      ]
    },
    {
      "cell_type": "code",
      "source": [
        "# ⚙️ 2) Config\n",
        "class Cfg:\n",
        "    img_size = 28\n",
        "    channels = 1\n",
        "    batch_size = 128\n",
        "    epochs = 10\n",
        "    lr = 2e-4\n",
        "    T = 1000   # diffusion steps\n",
        "    beta_start = 1e-4\n",
        "    beta_end   = 0.02\n",
        "cfg = Cfg()\n"
      ],
      "metadata": {
        "id": "GWmbrM3d4H3q"
      },
      "execution_count": 4,
      "outputs": []
    },
    {
      "cell_type": "code",
      "source": [
        "# 📂 3) Data (MNIST)\n",
        "transform = transforms.Compose([\n",
        "    transforms.ToTensor(),\n",
        "    transforms.Lambda(lambda x: x*2. - 1.),  # scale to [-1, 1]\n",
        "])\n",
        "\n",
        "train_ds = datasets.MNIST(\"./data\", train=True, download=True, transform=transform)\n",
        "test_ds  = datasets.MNIST(\"./data\", train=False, download=True, transform=transform)\n",
        "\n",
        "train_loader = DataLoader(train_ds, batch_size=cfg.batch_size, shuffle=True, drop_last=True)\n",
        "test_loader  = DataLoader(test_ds, batch_size=cfg.batch_size, shuffle=False)\n"
      ],
      "metadata": {
        "id": "_iJNss0Q4LU3"
      },
      "execution_count": 5,
      "outputs": []
    },
    {
      "cell_type": "code",
      "source": [
        "# 🧱 4) Diffusion Utilities\n",
        "# linear beta schedule\n",
        "betas = torch.linspace(cfg.beta_start, cfg.beta_end, cfg.T, device=device)\n",
        "alphas = 1. - betas\n",
        "alphas_bar = torch.cumprod(alphas, dim=0)\n",
        "\n",
        "def q_sample(x0, t, noise=None):\n",
        "    \"\"\"Forward diffusion: sample q(x_t | x0)\"\"\"\n",
        "    if noise is None:\n",
        "        noise = torch.randn_like(x0)\n",
        "    sqrt_ab = alphas_bar[t]**0.5\n",
        "    sqrt_mab = (1 - alphas_bar[t])**0.5\n",
        "    return sqrt_ab.view(-1,1,1,1)*x0 + sqrt_mab.view(-1,1,1,1)*noise\n",
        "\n",
        "def get_index(a, t, x_shape):\n",
        "    \"\"\"extract values at t with batch shape\"\"\"\n",
        "    return a.gather(-1, t).reshape(-1,1,1,1).expand(x_shape)\n"
      ],
      "metadata": {
        "id": "oQrZClaV4Pcy"
      },
      "execution_count": 6,
      "outputs": []
    },
    {
      "cell_type": "code",
      "source": [
        "# 🏗️ 5) Model (simple U-Net style denoiser)\n",
        "class SimpleDenoiser(nn.Module):\n",
        "    def __init__(self, c=1):\n",
        "        super().__init__()\n",
        "        self.net = nn.Sequential(\n",
        "            nn.Conv2d(c, 64, 3, 1, 1), nn.ReLU(),\n",
        "            nn.Conv2d(64, 64, 3, 1, 1), nn.ReLU(),\n",
        "            nn.Conv2d(64, c, 3, 1, 1)\n",
        "        )\n",
        "    def forward(self, x, t_emb):\n",
        "        return self.net(x)\n"
      ],
      "metadata": {
        "id": "1JqRZKzb4vc8"
      },
      "execution_count": 7,
      "outputs": []
    },
    {
      "cell_type": "code",
      "source": [
        "# 📏 6) Training Objective (predict noise)\n",
        "model = SimpleDenoiser(cfg.channels).to(device)\n",
        "opt = optim.Adam(model.parameters(), lr=cfg.lr)\n",
        "\n",
        "def loss_fn(x0, t):\n",
        "    noise = torch.randn_like(x0)\n",
        "    xt = q_sample(x0, t, noise)\n",
        "    pred = model(xt, t)\n",
        "    return F.mse_loss(pred, noise)\n"
      ],
      "metadata": {
        "id": "Zrc3APA-4yOx"
      },
      "execution_count": 8,
      "outputs": []
    },
    {
      "cell_type": "code",
      "source": [
        "# 🚀 7) Training Loop\n",
        "for epoch in range(1, cfg.epochs+1):\n",
        "    model.train(); running=0\n",
        "    for x,_ in tqdm(train_loader, desc=f\"Epoch {epoch}/{cfg.epochs}\"):\n",
        "        x=x.to(device)\n",
        "        t=torch.randint(0,cfg.T,(x.size(0),),device=device)\n",
        "        loss=loss_fn(x,t)\n",
        "        opt.zero_grad(set_to_none=True); loss.backward(); opt.step()\n",
        "        running+=loss.item()\n",
        "    print(f\"Epoch {epoch}: loss {running/len(train_loader):.4f}\")\n"
      ],
      "metadata": {
        "colab": {
          "base_uri": "https://localhost:8080/"
        },
        "id": "o9hiIlJ741KT",
        "outputId": "30960537-0821-43d8-8be5-c2fc18065c3b"
      },
      "execution_count": 9,
      "outputs": [
        {
          "output_type": "stream",
          "name": "stderr",
          "text": [
            "Epoch 1/10: 100%|██████████| 468/468 [00:11<00:00, 39.70it/s]\n"
          ]
        },
        {
          "output_type": "stream",
          "name": "stdout",
          "text": [
            "Epoch 1: loss 0.1753\n"
          ]
        },
        {
          "output_type": "stream",
          "name": "stderr",
          "text": [
            "Epoch 2/10: 100%|██████████| 468/468 [00:10<00:00, 45.87it/s]\n"
          ]
        },
        {
          "output_type": "stream",
          "name": "stdout",
          "text": [
            "Epoch 2: loss 0.0962\n"
          ]
        },
        {
          "output_type": "stream",
          "name": "stderr",
          "text": [
            "Epoch 3/10: 100%|██████████| 468/468 [00:10<00:00, 46.29it/s]\n"
          ]
        },
        {
          "output_type": "stream",
          "name": "stdout",
          "text": [
            "Epoch 3: loss 0.0804\n"
          ]
        },
        {
          "output_type": "stream",
          "name": "stderr",
          "text": [
            "Epoch 4/10: 100%|██████████| 468/468 [00:10<00:00, 45.85it/s]\n"
          ]
        },
        {
          "output_type": "stream",
          "name": "stdout",
          "text": [
            "Epoch 4: loss 0.0739\n"
          ]
        },
        {
          "output_type": "stream",
          "name": "stderr",
          "text": [
            "Epoch 5/10: 100%|██████████| 468/468 [00:10<00:00, 45.67it/s]\n"
          ]
        },
        {
          "output_type": "stream",
          "name": "stdout",
          "text": [
            "Epoch 5: loss 0.0701\n"
          ]
        },
        {
          "output_type": "stream",
          "name": "stderr",
          "text": [
            "Epoch 6/10: 100%|██████████| 468/468 [00:10<00:00, 46.19it/s]\n"
          ]
        },
        {
          "output_type": "stream",
          "name": "stdout",
          "text": [
            "Epoch 6: loss 0.0670\n"
          ]
        },
        {
          "output_type": "stream",
          "name": "stderr",
          "text": [
            "Epoch 7/10: 100%|██████████| 468/468 [00:10<00:00, 46.32it/s]\n"
          ]
        },
        {
          "output_type": "stream",
          "name": "stdout",
          "text": [
            "Epoch 7: loss 0.0655\n"
          ]
        },
        {
          "output_type": "stream",
          "name": "stderr",
          "text": [
            "Epoch 8/10: 100%|██████████| 468/468 [00:10<00:00, 46.00it/s]\n"
          ]
        },
        {
          "output_type": "stream",
          "name": "stdout",
          "text": [
            "Epoch 8: loss 0.0636\n"
          ]
        },
        {
          "output_type": "stream",
          "name": "stderr",
          "text": [
            "Epoch 9/10: 100%|██████████| 468/468 [00:10<00:00, 46.25it/s]\n"
          ]
        },
        {
          "output_type": "stream",
          "name": "stdout",
          "text": [
            "Epoch 9: loss 0.0625\n"
          ]
        },
        {
          "output_type": "stream",
          "name": "stderr",
          "text": [
            "Epoch 10/10: 100%|██████████| 468/468 [00:10<00:00, 45.78it/s]"
          ]
        },
        {
          "output_type": "stream",
          "name": "stdout",
          "text": [
            "Epoch 10: loss 0.0609\n"
          ]
        },
        {
          "output_type": "stream",
          "name": "stderr",
          "text": [
            "\n"
          ]
        }
      ]
    },
    {
      "cell_type": "code",
      "source": [
        "# 🧪 8) Sampling (reverse diffusion)\n",
        "@torch.no_grad()\n",
        "def p_sample(x, t):\n",
        "    betat=get_index(betas,t,x.shape)\n",
        "    at=get_index(alphas,t,x.shape)\n",
        "    abar=get_index(alphas_bar,t,x.shape)\n",
        "    # ensure t is scalar for the >0 check\n",
        "    if isinstance(t, torch.Tensor):\n",
        "        t_int = t[0].item() if t.ndim > 0 else t.item()\n",
        "    else:\n",
        "        t_int = int(t)\n",
        "\n",
        "    noise = torch.randn_like(x) if t_int > 0 else torch.zeros_like(x)\n",
        "\n",
        "    pred_noise = model(x, t)\n",
        "\n",
        "    mean=(1/at**0.5)*(x - ((1-at)/(1-abar)**0.5)*pred_noise)\n",
        "    return mean+betat**0.5*noise\n",
        "\n",
        "@torch.no_grad()\n",
        "def sample(n=16):\n",
        "    x=torch.randn(n,cfg.channels,cfg.img_size,cfg.img_size,device=device)\n",
        "    for t in reversed(range(cfg.T)):\n",
        "        x=p_sample(x, torch.full((n,),t,device=device,dtype=torch.long))\n",
        "    return x\n",
        "\n",
        "samples=sample(16).cpu()\n",
        "grid=utils.make_grid((samples+1)/2, nrow=4)\n",
        "plt.figure(figsize=(4,4)); plt.imshow(grid.permute(1,2,0)); plt.axis(\"off\"); plt.show()\n"
      ],
      "metadata": {
        "colab": {
          "base_uri": "https://localhost:8080/",
          "height": 382
        },
        "id": "tMqXRBiP45De",
        "outputId": "8eb1771c-d3a4-4829-9e31-a937074e69cf"
      },
      "execution_count": 12,
      "outputs": [
        {
          "output_type": "stream",
          "name": "stderr",
          "text": [
            "WARNING:matplotlib.image:Clipping input data to the valid range for imshow with RGB data ([0..1] for floats or [0..255] for integers). Got range [-0.19186348..1.2333696].\n"
          ]
        },
        {
          "output_type": "display_data",
          "data": {
            "text/plain": [
              "<Figure size 400x400 with 1 Axes>"
            ],
            "image/png": "[encoded data removed]"
          },
          "metadata": {}
        }
      ]
    },
    {
      "cell_type": "markdown",
      "source": [
        "# 📊 Results of ReproDiffusion  \n",
        "*Replication of “Deep Unsupervised Learning using Nonequilibrium Thermodynamics” (Sohl-Dickstein et al., 2015)*\n",
        "\n",
        "---\n",
        "\n",
        "## 🔎 Training Dynamics\n",
        "- Training loss decreased steadily:  \n",
        "  - **Epoch 1:** ~0.17  \n",
        "  - **Epoch 10:** ~0.060  \n",
        "- Indicates the model progressively learned to **denoise inputs** and approximate the forward diffusion process.  \n",
        "- Lower loss = better prediction of the **noise injected at each timestep**.  \n",
        "\n",
        "---\n",
        "\n",
        "## 🧪 Sampling (Reverse Diffusion)\n",
        "- Generated samples after **10 epochs** appeared as **noisy, fragmented blobs** rather than coherent digits/objects.  \n",
        "- This outcome is expected because:  \n",
        "  - Training was short (**10 epochs vs. hundreds** in the original paper).  \n",
        "  - Model architecture was **minimal** (baseline DDPM-style), lacking optimizations:  \n",
        "    - Improved noise schedules.  \n",
        "    - U-Net backbones.  \n",
        "\n",
        "---\n",
        "\n",
        "## 📌 Interpretation\n",
        "\n",
        "### ✅ Strengths\n",
        "- Loss curve confirms the model successfully learned the **denoising task**.  \n",
        "- Reverse diffusion pipeline executed end-to-end without runtime errors.  \n",
        "\n",
        "### ❌ Limitations\n",
        "- Generated samples lack **semantic structure**, appearing as random noise patterns.  \n",
        "- Suggests the model captured **low-level noise statistics** but not the **global data distribution**.  \n",
        "\n",
        "---\n",
        "\n",
        "## ✅ Conclusion\n",
        "- This replication confirms the **core mechanism of diffusion models**:  \n",
        "  - Forward process: add Gaussian noise step by step.  \n",
        "  - Reverse process: learn to denoise iteratively.  \n",
        "- While training is still early, the **loss trajectory is promising**.  \n",
        "\n",
        "With:  \n",
        "- More training epochs,  \n",
        "- Larger architectures (e.g., **U-Net backbones**),  \n",
        "- Better-designed noise schedules,  \n",
        "\n",
        "the generated samples should converge to **clear, realistic digits**, as shown in the original 2015 paper and later DDPMs.  \n"
      ],
      "metadata": {
        "id": "AeXWol876o6V"
      }
    }
  ]
}